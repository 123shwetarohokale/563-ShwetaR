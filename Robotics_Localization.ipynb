{
  "nbformat": 4,
  "nbformat_minor": 0,
  "metadata": {
    "colab": {
      "provenance": [],
      "authorship_tag": "ABX9TyPLzSALkgaoeQwoYVIp18HX",
      "include_colab_link": true
    },
    "kernelspec": {
      "name": "python3",
      "display_name": "Python 3"
    },
    "language_info": {
      "name": "python"
    }
  },
  "cells": [
    {
      "cell_type": "markdown",
      "metadata": {
        "id": "view-in-github",
        "colab_type": "text"
      },
      "source": [
        "<a href=\"https://colab.research.google.com/github/123shwetarohokale/563-ShwetaR/blob/main/Robotics_Localization.ipynb\" target=\"_parent\"><img src=\"https://colab.research.google.com/assets/colab-badge.svg\" alt=\"Open In Colab\"/></a>"
      ]
    },
    {
      "cell_type": "code",
      "execution_count": 1,
      "metadata": {
        "colab": {
          "base_uri": "https://localhost:8080/"
        },
        "id": "OtqgXZiAXuE5",
        "outputId": "272dd568-6a8f-46de-a267-d3c14b9349d5"
      },
      "outputs": [
        {
          "output_type": "stream",
          "name": "stdout",
          "text": [
            "Initial quaternion q(0): [1. 0. 0. 0.]\n",
            "After 'Rotate +π rad/s about X': q = [0.97922  0.202803 0.       0.      ]\n",
            "After 'Rotate +π rad/s about Z': q = [ 0.958871  0.198589 -0.041129  0.198589]\n",
            "After 'Rotate −π rad/s about X': q = [ 0.97922   0.       -0.080549  0.186121]\n",
            "After 'Rotate −π rad/s about Z': q = [ 0.996617  0.016336 -0.078875 -0.016336]\n",
            "\n",
            "Final quaternion q(1): [ 0.996617  0.016336 -0.078875 -0.016336]\n",
            "Initial quaternion q(0): [1. 0. 0. 0.]\n",
            "Result: ❌ Final orientation is different from the initial orientation.\n"
          ]
        }
      ],
      "source": [
        "import numpy as np\n",
        "\n",
        "def skew_symmetric(omega):\n",
        "    \"\"\"Returns the 3x3 skew-symmetric matrix of a vector.\"\"\"\n",
        "    wx, wy, wz = omega\n",
        "    return np.array([\n",
        "        [ 0, -wz,  wy],\n",
        "        [ wz,  0, -wx],\n",
        "        [-wy, wx,   0]\n",
        "    ])\n",
        "\n",
        "def omega_matrix(omega):\n",
        "    \"\"\"Constructs the 4x4 Omega(omega) matrix for quaternion kinematics.\"\"\"\n",
        "    omega_cross = skew_symmetric(omega)\n",
        "    top = np.hstack(([0], -omega))\n",
        "    bottom = np.hstack((omega[:, np.newaxis], -omega_cross))\n",
        "    return np.vstack((top[np.newaxis, :], bottom))\n",
        "\n",
        "def closed_form_quaternion_update(q, omega, dt):\n",
        "    \"\"\"\n",
        "    Updates quaternion using closed-form exponential of Omega matrix.\n",
        "\n",
        "    Parameters:\n",
        "    q     -- current quaternion [q0, q1, q2, q3] (scalar-first)\n",
        "    omega -- angular velocity vector [wx, wy, wz] in rad/s\n",
        "    dt    -- time interval in seconds\n",
        "\n",
        "    Returns:\n",
        "    q_next -- updated quaternion (normalized)\n",
        "    \"\"\"\n",
        "    norm_omega = np.linalg.norm(omega)\n",
        "    if norm_omega == 0:\n",
        "        return q\n",
        "\n",
        "    theta = norm_omega * dt\n",
        "    Omega = 0.5 * omega_matrix(omega)\n",
        "    I = np.eye(4)\n",
        "\n",
        "    exp_Omega_dt = (\n",
        "        np.cos(theta / 2) * I +\n",
        "        (np.sin(theta / 2) / norm_omega) * Omega\n",
        "    )\n",
        "\n",
        "    q_next = exp_Omega_dt @ q\n",
        "    return q_next / np.linalg.norm(q_next)\n",
        "\n",
        "def run_simulation():\n",
        "    # Initial quaternion (no rotation)\n",
        "    q = np.array([1.0, 0.0, 0.0, 0.0])\n",
        "    q_initial = q.copy()\n",
        "\n",
        "    # Time step\n",
        "    dt = 0.25  # seconds\n",
        "\n",
        "    # Define the sequence of angular velocities\n",
        "    rotations = [\n",
        "        (\"Rotate +π rad/s about X\",  np.array([ np.pi, 0.0, 0.0])),\n",
        "        (\"Rotate +π rad/s about Z\",  np.array([0.0, 0.0,  np.pi])),\n",
        "        (\"Rotate −π rad/s about X\",  np.array([-np.pi, 0.0, 0.0])),\n",
        "        (\"Rotate −π rad/s about Z\",  np.array([0.0, 0.0, -np.pi]))\n",
        "    ]\n",
        "\n",
        "    print(\"Initial quaternion q(0):\", q)\n",
        "\n",
        "    # Apply each rotation\n",
        "    for step_name, omega in rotations:\n",
        "        q = closed_form_quaternion_update(q, omega, dt)\n",
        "        print(f\"After '{step_name}': q = {np.round(q, decimals=6)}\")\n",
        "\n",
        "    # Final result\n",
        "    print(\"\\nFinal quaternion q(1):\", np.round(q, 6))\n",
        "    print(\"Initial quaternion q(0):\", q_initial)\n",
        "\n",
        "    # Check if final quaternion is approximately equal to the initial\n",
        "    if np.allclose(q, q_initial, atol=1e-6) or np.allclose(q, -q_initial, atol=1e-6):\n",
        "        print(\"Result: ✅ Final orientation is the same as the initial orientation (modulo sign).\")\n",
        "    else:\n",
        "        print(\"Result: ❌ Final orientation is different from the initial orientation.\")\n",
        "\n",
        "if __name__ == \"__main__\":\n",
        "    run_simulation()\n"
      ]
    }
  ]
}