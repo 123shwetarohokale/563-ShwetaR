{
  "nbformat": 4,
  "nbformat_minor": 0,
  "metadata": {
    "colab": {
      "provenance": [],
      "authorship_tag": "ABX9TyPX2rYCPCLewsSBAJg8v+bw",
      "include_colab_link": true
    },
    "kernelspec": {
      "name": "python3",
      "display_name": "Python 3"
    },
    "language_info": {
      "name": "python"
    }
  },
  "cells": [
    {
      "cell_type": "markdown",
      "metadata": {
        "id": "view-in-github",
        "colab_type": "text"
      },
      "source": [
        "<a href=\"https://colab.research.google.com/github/123shwetarohokale/563-ShwetaR/blob/main/assignment02.ipynb\" target=\"_parent\"><img src=\"https://colab.research.google.com/assets/colab-badge.svg\" alt=\"Open In Colab\"/></a>"
      ]
    },
    {
      "source": [
        "# Problem 2.2\n",
        "import numpy as np\n",
        "\n",
        "def calculate_energy(system, lattice_size):\n",
        "    # Calculate the energy of a configuration where two molecules are adsorbed on a 2D lattice.\n",
        "\n",
        "    energy = 0\n",
        "    molecule_1, molecule_2 = system\n",
        "\n",
        "    # Extract x, y coordinates for each molecule\n",
        "    x1, y1 = molecule_1\n",
        "    x2, y2 = molecule_2\n",
        "\n",
        "    # Check if the molecules are adjacent (sharing a side)\n",
        "    if (abs(x1 - x2) == 1 and y1 == y2) or (abs(y1 - y2) == 1 and x1 == x2):\n",
        "        energy = -1  # Adjacent molecules contribute -1 energy\n",
        "    return energy # Fixed indentation: This line should be indented at the same level as the 'energy = 0' line.\n",
        "\n",
        "# Lattice is 4x4, molecules at (0, 0) and (1, 0) (adjacent)\n",
        "system = [(0, 0), (1, 0)]  # Example configuration where molecules are adjacent\n",
        "lattice_size = 4  # 4x4 lattice\n",
        "energy = calculate_energy(system, lattice_size)\n",
        "print(\"Energy of the configuration (adjacent):\", energy)\n",
        "\n",
        "# Test with non-adjacent configuration\n",
        "system_non_adjacent = [(0, 0), (2, 2)]  # Example configuration where molecules are not adjacent\n",
        "energy_non_adjacent = calculate_energy(system_non_adjacent, lattice_size)\n",
        "print(\"Energy of the configuration (non-adjacent):\", energy_non_adjacent)"
      ],
      "cell_type": "code",
      "metadata": {
        "colab": {
          "base_uri": "https://localhost:8080/"
        },
        "id": "5X9jKwpUwvSU",
        "outputId": "b37bcf57-b750-4854-84d1-0a64b558453b"
      },
      "execution_count": null,
      "outputs": [
        {
          "output_type": "stream",
          "name": "stdout",
          "text": [
            "Energy of the configuration (adjacent): -1\n",
            "Energy of the configuration (non-adjacent): 0\n"
          ]
        }
      ]
    },
    {
      "cell_type": "code",
      "source": [
        "import math\n",
        "\n",
        "def calculate_configurations(N, V):\n",
        "    # Calculate the number of configurations (Ω) for distributing N identical particles\n",
        "    # among V lattice sites where multiple particles can occupy a single site.\n",
        "    # param N: Number of identical particles\n",
        "    # param V: Number of lattice sites\n",
        "    # return: Number of configurations (Ω)\n",
        "\n",
        "    # Use the factorial formula: Ω = (N + V - 1)! / (N! * (V - 1)!)\n",
        "    configurations = math.factorial(N + V - 1) // (math.factorial(N) * math.factorial(V - 1))\n",
        "    return configurations\n",
        "\n",
        "# Example usage\n",
        "N = 10  # Number of particles\n",
        "V = 5  # Number of lattice sites\n",
        "\n",
        "configurations = calculate_configurations(N, V)\n",
        "print(f\"Number of configurations for N = {N} particles and V = {V} sites: {configurations}\")\n"
      ],
      "metadata": {
        "colab": {
          "base_uri": "https://localhost:8080/"
        },
        "id": "vd8jsEY8x8TB",
        "outputId": "14050043-152f-4205-a152-ef166b2c512e"
      },
      "execution_count": null,
      "outputs": [
        {
          "output_type": "stream",
          "name": "stdout",
          "text": [
            "Number of configurations for N = 10 particles and V = 5 sites: 1001\n"
          ]
        }
      ]
    },
    {
      "cell_type": "code",
      "source": [
        "# problem 2.8\n",
        "import math\n",
        "\n",
        "def log_binomial_approximation(n, k):\n",
        "    # Calculate the logarithm of the binomial coefficient using the approximation:\n",
        "    # ln(C(n, k)) ≈ -n * [(1-x) * ln(1-x) + x * ln(x)]\n",
        "    # param n: Total number of items\n",
        "    # param k: Number of selected items\n",
        "    # return: Approximated natural logarithm of the binomial coefficient\n",
        "\n",
        "    # Compute x = k / n\n",
        "    x = k / n if n > 0 else 0\n",
        "\n",
        "    # Handle edge cases for x = 0 or x = 1 to avoid log(0)\n",
        "    if x == 0 or x == 1:\n",
        "        return 0  # ln(C(n, 0)) = ln(C(n, n)) = 0 for valid inputs\n",
        "\n",
        "    # Compute the approximation\n",
        "    log_binomial = -n * ((1 - x) * math.log(1 - x) + x * math.log(x))\n",
        "    return log_binomial\n",
        "\n",
        "# Example usage\n",
        "n = 10  # Total number of items\n",
        "k = 3   # Number of selected items\n",
        "\n",
        "log_binom = log_binomial_approximation(n, k)\n",
        "print(f\"Approximated ln(C({n}, {k})) = {log_binom:.6f}\")\n",
        "\n",
        "# Compare with the exact value for verification\n",
        "exact_log_binom = math.log(math.comb(n, k))\n",
        "print(f\"Exact ln(C({n}, {k})) = {exact_log_binom:.6f}\")"
      ],
      "metadata": {
        "colab": {
          "base_uri": "https://localhost:8080/"
        },
        "id": "yZv9TfjlydBz",
        "outputId": "843a7218-70ec-4c79-81ee-50b7a947b9f6"
      },
      "execution_count": null,
      "outputs": [
        {
          "output_type": "stream",
          "name": "stdout",
          "text": [
            "Approximated ln(C(10, 3)) = 6.108643\n",
            "Exact ln(C(10, 3)) = 4.787492\n"
          ]
        }
      ]
    },
    {
      "cell_type": "code",
      "source": [
        "import math\n",
        "\n",
        "def log_binomial_stirling(n, k):\n",
        "    #Calculate the logarithm of the binomial coefficient using the derived approximation:\n",
        "    #n: Total number of items\n",
        "    #k: Number of selected items\n",
        "\n",
        "    x = k / n if n > 0 else 0\n",
        "\n",
        "    # Handle edge cases for x = 0 or x = 1 to avoid log(0)\n",
        "    if x == 0 or x == 1:\n",
        "        return 0  # ln(C(n, 0)) = ln(C(n, n)) = 0\n",
        "\n",
        "    ln_binom_approx = -n * (x * math.log(x) + (1 - x) * math.log(1 - x))\n",
        "    return ln_binom_approx\n",
        "\n",
        "def log_binomial_exact(n, k):\n",
        "    #Calculate the exact logarithm of the binomial coefficient using math.comb.\n",
        "\n",
        "    return math.log(math.comb(n, k))\n",
        "\n",
        "    # Calculate exact and approximate values\n",
        "    exact = log_binomial_exact(n, k)\n",
        "    approx = log_binomial_stirling(n, k)\n",
        "\n",
        "    # Calculate absolute and relative errors\n",
        "    abs_error = abs(exact - approx)\n",
        "    rel_error = abs_error / abs(exact) if exact != 0 else 0\n",
        "\n",
        "    print(f\"For n={n}, k={k}:\")\n",
        "    print(f\"  Exact ln(C(n, k)) = {exact:.6f}\")\n",
        "    print(f\"  Approx ln(C(n, k)) = {approx:.6f}\")\n",
        "    print(f\"  Absolute error = {abs_error:.6f}\")\n",
        "    print(f\"  Relative error = {rel_error * 100:.4f}%\")\n",
        "    print()\n",
        "\n",
        "# Example usage: Test with different values of n and k\n",
        "test_cases = [(8, 2), (10, 5), (40, 20), (50, 1), (100, 50)]\n",
        "\n",
        "for n, k in test_cases:\n",
        "    compare_approximation(n, k)\n"
      ],
      "metadata": {
        "colab": {
          "base_uri": "https://localhost:8080/"
        },
        "id": "NaAQY5ry1XmE",
        "outputId": "c6e84c6a-7a1a-45da-8e8d-28aad5b352cd"
      },
      "execution_count": null,
      "outputs": [
        {
          "output_type": "stream",
          "name": "stdout",
          "text": [
            "For n=8, k=2:\n",
            "  Exact ln(C(n, k)) = 3.332205\n",
            "  Approx ln(C(n, k)) = 4.498681\n",
            "  Absolute error = 1.166477\n",
            "  Relative error = 35.0062%\n",
            "\n",
            "For n=10, k=5:\n",
            "  Exact ln(C(n, k)) = 5.529429\n",
            "  Approx ln(C(n, k)) = 6.931472\n",
            "  Absolute error = 1.402043\n",
            "  Relative error = 25.3560%\n",
            "\n",
            "For n=40, k=20:\n",
            "  Exact ln(C(n, k)) = 25.649407\n",
            "  Approx ln(C(n, k)) = 27.725887\n",
            "  Absolute error = 2.076480\n",
            "  Relative error = 8.0956%\n",
            "\n",
            "For n=50, k=1:\n",
            "  Exact ln(C(n, k)) = 3.912023\n",
            "  Approx ln(C(n, k)) = 4.901956\n",
            "  Absolute error = 0.989933\n",
            "  Relative error = 25.3049%\n",
            "\n",
            "For n=100, k=50:\n",
            "  Exact ln(C(n, k)) = 66.783842\n",
            "  Approx ln(C(n, k)) = 69.314718\n",
            "  Absolute error = 2.530876\n",
            "  Relative error = 3.7897%\n",
            "\n"
          ]
        }
      ]
    }
  ]
}