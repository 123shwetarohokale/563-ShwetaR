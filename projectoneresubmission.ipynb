{
  "cells": [
    {
      "cell_type": "markdown",
      "metadata": {
        "id": "view-in-github",
        "colab_type": "text"
      },
      "source": [
        "<a href=\"https://colab.research.google.com/github/123shwetarohokale/563-ShwetaR/blob/main/projectoneresubmission.ipynb\" target=\"_parent\"><img src=\"https://colab.research.google.com/assets/colab-badge.svg\" alt=\"Open In Colab\"/></a>"
      ]
    },
    {
      "cell_type": "code",
      "execution_count": 1,
      "metadata": {
        "colab": {
          "base_uri": "https://localhost:8080/",
          "height": 478
        },
        "id": "saNN4VCTxHMp",
        "outputId": "f9511486-fbe4-4fe6-d15b-c582abcadb44"
      },
      "outputs": [
        {
          "output_type": "stream",
          "name": "stdout",
          "text": [
            "Running simulation for density = 0.5, T = 0.5, N = 50, L = 4.641588833612778\n"
          ]
        },
        {
          "output_type": "stream",
          "name": "stderr",
          "text": [
            "<ipython-input-1-a8505e893608>:76: RuntimeWarning: overflow encountered in exp\n",
            "  if np.random.uniform() <= np.exp(-dE / self.T):\n"
          ]
        },
        {
          "output_type": "stream",
          "name": "stdout",
          "text": [
            "Average energy per particle: 15466.8364 ± 0.0000\n",
            "Running simulation for density = 0.5, T = 2.0, N = 50, L = 4.641588833612778\n",
            "Average energy per particle: 15467.5062 ± 0.0000\n",
            "Running simulation for density = 0.7, T = 0.5, N = 70, L = 4.641588833612778\n"
          ]
        },
        {
          "output_type": "error",
          "ename": "KeyboardInterrupt",
          "evalue": "",
          "traceback": [
            "\u001b[0;31m---------------------------------------------------------------------------\u001b[0m",
            "\u001b[0;31mKeyboardInterrupt\u001b[0m                         Traceback (most recent call last)",
            "\u001b[0;32m<ipython-input-1-a8505e893608>\u001b[0m in \u001b[0;36m<cell line: 0>\u001b[0;34m()\u001b[0m\n\u001b[1;32m    103\u001b[0m         \u001b[0;32mfor\u001b[0m \u001b[0m_\u001b[0m \u001b[0;32min\u001b[0m \u001b[0mrange\u001b[0m\u001b[0;34m(\u001b[0m\u001b[0msamples\u001b[0m\u001b[0;34m)\u001b[0m\u001b[0;34m:\u001b[0m\u001b[0;34m\u001b[0m\u001b[0;34m\u001b[0m\u001b[0m\n\u001b[1;32m    104\u001b[0m             \u001b[0;31m# Initialize the simulation for each sample\u001b[0m\u001b[0;34m\u001b[0m\u001b[0;34m\u001b[0m\u001b[0m\n\u001b[0;32m--> 105\u001b[0;31m             \u001b[0ms\u001b[0m \u001b[0;34m=\u001b[0m \u001b[0mMethaneSimulation\u001b[0m\u001b[0;34m(\u001b[0m\u001b[0mN\u001b[0m\u001b[0;34m=\u001b[0m\u001b[0mN\u001b[0m\u001b[0;34m,\u001b[0m \u001b[0mL\u001b[0m\u001b[0;34m=\u001b[0m\u001b[0mL\u001b[0m\u001b[0;34m,\u001b[0m \u001b[0mT\u001b[0m\u001b[0;34m=\u001b[0m\u001b[0mT\u001b[0m\u001b[0;34m,\u001b[0m \u001b[0mmaxSteps\u001b[0m\u001b[0;34m=\u001b[0m\u001b[0;36m10000\u001b[0m\u001b[0;34m,\u001b[0m \u001b[0mdebug\u001b[0m\u001b[0;34m=\u001b[0m\u001b[0;32mFalse\u001b[0m\u001b[0;34m,\u001b[0m \u001b[0mseed\u001b[0m\u001b[0;34m=\u001b[0m\u001b[0;36m23\u001b[0m\u001b[0;34m)\u001b[0m\u001b[0;34m\u001b[0m\u001b[0;34m\u001b[0m\u001b[0m\n\u001b[0m\u001b[1;32m    106\u001b[0m             \u001b[0menergies\u001b[0m\u001b[0;34m.\u001b[0m\u001b[0mappend\u001b[0m\u001b[0;34m(\u001b[0m\u001b[0ms\u001b[0m\u001b[0;34m.\u001b[0m\u001b[0menergies\u001b[0m\u001b[0;34m.\u001b[0m\u001b[0mmean\u001b[0m\u001b[0;34m(\u001b[0m\u001b[0;34m)\u001b[0m \u001b[0;34m/\u001b[0m \u001b[0mN\u001b[0m\u001b[0;34m)\u001b[0m  \u001b[0;31m# Store average energy per particle\u001b[0m\u001b[0;34m\u001b[0m\u001b[0;34m\u001b[0m\u001b[0m\n\u001b[1;32m    107\u001b[0m \u001b[0;34m\u001b[0m\u001b[0m\n",
            "\u001b[0;32m<ipython-input-1-a8505e893608>\u001b[0m in \u001b[0;36m__init__\u001b[0;34m(self, N, L, T, maxD, maxSteps, debug, seed)\u001b[0m\n\u001b[1;32m     45\u001b[0m \u001b[0;34m\u001b[0m\u001b[0m\n\u001b[1;32m     46\u001b[0m         \u001b[0;32mfor\u001b[0m \u001b[0mi\u001b[0m \u001b[0;32min\u001b[0m \u001b[0mrange\u001b[0m\u001b[0;34m(\u001b[0m\u001b[0mself\u001b[0m\u001b[0;34m.\u001b[0m\u001b[0mmaxSteps\u001b[0m\u001b[0;34m)\u001b[0m\u001b[0;34m:\u001b[0m\u001b[0;34m\u001b[0m\u001b[0;34m\u001b[0m\u001b[0m\n\u001b[0;32m---> 47\u001b[0;31m             \u001b[0mself\u001b[0m\u001b[0;34m.\u001b[0m\u001b[0mtrial\u001b[0m\u001b[0;34m(\u001b[0m\u001b[0;34m)\u001b[0m\u001b[0;34m\u001b[0m\u001b[0;34m\u001b[0m\u001b[0m\n\u001b[0m\u001b[1;32m     48\u001b[0m             \u001b[0;32mif\u001b[0m \u001b[0mself\u001b[0m\u001b[0;34m.\u001b[0m\u001b[0mdebug\u001b[0m\u001b[0;34m:\u001b[0m\u001b[0;34m\u001b[0m\u001b[0;34m\u001b[0m\u001b[0m\n\u001b[1;32m     49\u001b[0m                 \u001b[0mprint\u001b[0m\u001b[0;34m(\u001b[0m\u001b[0;34m\"{:03}:   {:.2f}\"\u001b[0m\u001b[0;34m.\u001b[0m\u001b[0mformat\u001b[0m\u001b[0;34m(\u001b[0m\u001b[0mi\u001b[0m\u001b[0;34m,\u001b[0m \u001b[0mself\u001b[0m\u001b[0;34m.\u001b[0m\u001b[0mE\u001b[0m\u001b[0;34m)\u001b[0m\u001b[0;34m)\u001b[0m\u001b[0;34m\u001b[0m\u001b[0;34m\u001b[0m\u001b[0m\n",
            "\u001b[0;32m<ipython-input-1-a8505e893608>\u001b[0m in \u001b[0;36mtrial\u001b[0;34m(self)\u001b[0m\n\u001b[1;32m     69\u001b[0m         \u001b[0mself\u001b[0m\u001b[0;34m.\u001b[0m\u001b[0mpos\u001b[0m\u001b[0;34m[\u001b[0m\u001b[0mi\u001b[0m\u001b[0;34m]\u001b[0m \u001b[0;34m=\u001b[0m \u001b[0mnewP\u001b[0m\u001b[0;34m\u001b[0m\u001b[0;34m\u001b[0m\u001b[0m\n\u001b[1;32m     70\u001b[0m \u001b[0;34m\u001b[0m\u001b[0m\n\u001b[0;32m---> 71\u001b[0;31m         \u001b[0mself\u001b[0m\u001b[0;34m.\u001b[0m\u001b[0mdist_matrix\u001b[0m \u001b[0;34m=\u001b[0m \u001b[0mdistance_matrix\u001b[0m\u001b[0;34m(\u001b[0m\u001b[0mself\u001b[0m\u001b[0;34m.\u001b[0m\u001b[0mpos\u001b[0m\u001b[0;34m,\u001b[0m \u001b[0mself\u001b[0m\u001b[0;34m.\u001b[0m\u001b[0mL\u001b[0m\u001b[0;34m)\u001b[0m  \u001b[0;31m# Update the distance matrix\u001b[0m\u001b[0;34m\u001b[0m\u001b[0;34m\u001b[0m\u001b[0m\n\u001b[0m\u001b[1;32m     72\u001b[0m \u001b[0;34m\u001b[0m\u001b[0m\n\u001b[1;32m     73\u001b[0m         \u001b[0mnewE\u001b[0m \u001b[0;34m=\u001b[0m \u001b[0mself\u001b[0m\u001b[0;34m.\u001b[0m\u001b[0mcalculate_energy\u001b[0m\u001b[0;34m(\u001b[0m\u001b[0;34m)\u001b[0m\u001b[0;34m\u001b[0m\u001b[0;34m\u001b[0m\u001b[0m\n",
            "\u001b[0;32m<ipython-input-1-a8505e893608>\u001b[0m in \u001b[0;36mdistance_matrix\u001b[0;34m(positions, L)\u001b[0m\n\u001b[1;32m     10\u001b[0m     \u001b[0;32mfor\u001b[0m \u001b[0mi\u001b[0m \u001b[0;32min\u001b[0m \u001b[0mrange\u001b[0m\u001b[0;34m(\u001b[0m\u001b[0mN\u001b[0m\u001b[0;34m)\u001b[0m\u001b[0;34m:\u001b[0m\u001b[0;34m\u001b[0m\u001b[0;34m\u001b[0m\u001b[0m\n\u001b[1;32m     11\u001b[0m         \u001b[0;32mfor\u001b[0m \u001b[0mj\u001b[0m \u001b[0;32min\u001b[0m \u001b[0mrange\u001b[0m\u001b[0;34m(\u001b[0m\u001b[0mi\u001b[0m\u001b[0;34m+\u001b[0m\u001b[0;36m1\u001b[0m\u001b[0;34m,\u001b[0m \u001b[0mN\u001b[0m\u001b[0;34m)\u001b[0m\u001b[0;34m:\u001b[0m\u001b[0;34m\u001b[0m\u001b[0;34m\u001b[0m\u001b[0m\n\u001b[0;32m---> 12\u001b[0;31m             \u001b[0mdist_matrix\u001b[0m\u001b[0;34m[\u001b[0m\u001b[0mi\u001b[0m\u001b[0;34m,\u001b[0m \u001b[0mj\u001b[0m\u001b[0;34m]\u001b[0m \u001b[0;34m=\u001b[0m \u001b[0mnp\u001b[0m\u001b[0;34m.\u001b[0m\u001b[0mlinalg\u001b[0m\u001b[0;34m.\u001b[0m\u001b[0mnorm\u001b[0m\u001b[0;34m(\u001b[0m\u001b[0mpbc\u001b[0m\u001b[0;34m(\u001b[0m\u001b[0mpositions\u001b[0m\u001b[0;34m[\u001b[0m\u001b[0mj\u001b[0m\u001b[0;34m]\u001b[0m \u001b[0;34m-\u001b[0m \u001b[0mpositions\u001b[0m\u001b[0;34m[\u001b[0m\u001b[0mi\u001b[0m\u001b[0;34m]\u001b[0m\u001b[0;34m,\u001b[0m \u001b[0mL\u001b[0m\u001b[0;34m)\u001b[0m\u001b[0;34m)\u001b[0m\u001b[0;34m\u001b[0m\u001b[0;34m\u001b[0m\u001b[0m\n\u001b[0m\u001b[1;32m     13\u001b[0m             \u001b[0mdist_matrix\u001b[0m\u001b[0;34m[\u001b[0m\u001b[0mj\u001b[0m\u001b[0;34m,\u001b[0m \u001b[0mi\u001b[0m\u001b[0;34m]\u001b[0m \u001b[0;34m=\u001b[0m \u001b[0mdist_matrix\u001b[0m\u001b[0;34m[\u001b[0m\u001b[0mi\u001b[0m\u001b[0;34m,\u001b[0m \u001b[0mj\u001b[0m\u001b[0;34m]\u001b[0m\u001b[0;34m\u001b[0m\u001b[0;34m\u001b[0m\u001b[0m\n\u001b[1;32m     14\u001b[0m     \u001b[0;32mreturn\u001b[0m \u001b[0mdist_matrix\u001b[0m\u001b[0;34m\u001b[0m\u001b[0;34m\u001b[0m\u001b[0m\n",
            "\u001b[0;32m<ipython-input-1-a8505e893608>\u001b[0m in \u001b[0;36mpbc\u001b[0;34m(d, L)\u001b[0m\n\u001b[1;32m      3\u001b[0m \u001b[0;34m\u001b[0m\u001b[0m\n\u001b[1;32m      4\u001b[0m \u001b[0;32mdef\u001b[0m \u001b[0mpbc\u001b[0m\u001b[0;34m(\u001b[0m\u001b[0md\u001b[0m\u001b[0;34m,\u001b[0m \u001b[0mL\u001b[0m\u001b[0;34m)\u001b[0m\u001b[0;34m:\u001b[0m\u001b[0;34m\u001b[0m\u001b[0;34m\u001b[0m\u001b[0m\n\u001b[0;32m----> 5\u001b[0;31m     \u001b[0;32mreturn\u001b[0m \u001b[0mnp\u001b[0m\u001b[0;34m.\u001b[0m\u001b[0mmod\u001b[0m\u001b[0;34m(\u001b[0m\u001b[0md\u001b[0m \u001b[0;34m+\u001b[0m \u001b[0mL\u001b[0m \u001b[0;34m/\u001b[0m \u001b[0;36m2\u001b[0m\u001b[0;34m,\u001b[0m \u001b[0mL\u001b[0m\u001b[0;34m)\u001b[0m \u001b[0;34m-\u001b[0m \u001b[0mL\u001b[0m \u001b[0;34m/\u001b[0m \u001b[0;36m2\u001b[0m\u001b[0;34m\u001b[0m\u001b[0;34m\u001b[0m\u001b[0m\n\u001b[0m\u001b[1;32m      6\u001b[0m \u001b[0;34m\u001b[0m\u001b[0m\n\u001b[1;32m      7\u001b[0m \u001b[0;32mdef\u001b[0m \u001b[0mdistance_matrix\u001b[0m\u001b[0;34m(\u001b[0m\u001b[0mpositions\u001b[0m\u001b[0;34m,\u001b[0m \u001b[0mL\u001b[0m\u001b[0;34m)\u001b[0m\u001b[0;34m:\u001b[0m\u001b[0;34m\u001b[0m\u001b[0;34m\u001b[0m\u001b[0m\n",
            "\u001b[0;31mKeyboardInterrupt\u001b[0m: "
          ]
        }
      ],
      "source": [
        "import numpy as np\n",
        "import matplotlib.pyplot as plt\n",
        "\n",
        "def pbc(d, L):\n",
        "    return np.mod(d + L / 2, L) - L / 2\n",
        "\n",
        "def distance_matrix(positions, L):\n",
        "    N = len(positions)\n",
        "    dist_matrix = np.zeros((N, N))\n",
        "    for i in range(N):\n",
        "        for j in range(i+1, N):\n",
        "            dist_matrix[i, j] = np.linalg.norm(pbc(positions[j] - positions[i], L))\n",
        "            dist_matrix[j, i] = dist_matrix[i, j]\n",
        "    return dist_matrix\n",
        "\n",
        "# Update Lennard-Jones parameters (epsilon=1, sigma=1)\n",
        "def lj(r, epsilon=1, sigma=1):\n",
        "    return 4 * epsilon * ((sigma / r) ** 12 - (sigma / r) ** 6)\n",
        "\n",
        "def autocorr1D(array):\n",
        "    ft = np.fft.rfft(array - np.average(array))\n",
        "    acorr = np.fft.irfft(ft * np.conjugate(ft)) / (len(array) * np.var(array))\n",
        "    dt = np.where(acorr < 0)[0][0]\n",
        "    nsamples = len(array) // dt\n",
        "    acorr = acorr[dt:nsamples]\n",
        "    return nsamples, dt\n",
        "\n",
        "class MethaneSimulation:\n",
        "    def __init__(self, N=100, L=50, T=300, maxD=0.1, maxSteps=1000, debug=False, seed=2):\n",
        "        np.random.seed(seed)\n",
        "        self.N = N\n",
        "        self.L = L\n",
        "        self.T = T\n",
        "        self.maxD = maxD\n",
        "        self.accept = 0\n",
        "        self.reject = 0\n",
        "        self.rcut = 2.5  # Adjusted for Lennard-Jones spheres (use sigma=1)\n",
        "        self.pos = np.random.uniform(low=-L/2, high=L/2, size=(N, 3))  # Initial positions\n",
        "        self.debug = debug\n",
        "        self.maxSteps = maxSteps\n",
        "        self.energies = np.zeros(maxSteps)\n",
        "\n",
        "        self.dist_matrix = distance_matrix(self.pos, L)  # Precompute distance matrix\n",
        "        self.E = self.calculate_energy()\n",
        "\n",
        "        for i in range(self.maxSteps):\n",
        "            self.trial()\n",
        "            if self.debug:\n",
        "                print(\"{:03}:   {:.2f}\".format(i, self.E))\n",
        "            self.energies[i] = self.E\n",
        "\n",
        "    def calculate_energy(self):\n",
        "        E = 0\n",
        "        for i in range(self.N - 1):\n",
        "            for j in range(i + 1, self.N):\n",
        "                r = self.dist_matrix[i, j]\n",
        "                if r <= self.rcut:\n",
        "                    E += lj(r)\n",
        "        return E\n",
        "\n",
        "    def trial(self):\n",
        "        i = np.random.randint(self.N)\n",
        "        oldP = np.copy(self.pos[i])\n",
        "        oldE = self.E\n",
        "        oldDistMatrix = self.dist_matrix.copy()\n",
        "\n",
        "        d = np.random.uniform(low=-self.maxD, high=self.maxD, size=3)\n",
        "        newP = pbc(oldP + d, self.L)\n",
        "        self.pos[i] = newP\n",
        "\n",
        "        self.dist_matrix = distance_matrix(self.pos, self.L)  # Update the distance matrix\n",
        "\n",
        "        newE = self.calculate_energy()\n",
        "        dE = newE - oldE\n",
        "\n",
        "        if np.random.uniform() <= np.exp(-dE / self.T):\n",
        "            if self.debug:\n",
        "                print(\"accept\")\n",
        "            self.accept += 1\n",
        "            self.E = newE\n",
        "        else:\n",
        "            if self.debug:\n",
        "                print(\"reject\")\n",
        "            self.pos[i] = oldP\n",
        "            self.dist_matrix = oldDistMatrix  # Revert the distance matrix\n",
        "            self.reject += 1\n",
        "            self.E = oldE\n",
        "\n",
        "# Methane-specific values (using density and adjusting N accordingly)\n",
        "densities = [0.5, 0.7]\n",
        "temperatures = [0.5, 2.0]\n",
        "samples = 20  # Number of independent samples\n",
        "\n",
        "for density in densities:\n",
        "    for T in temperatures:\n",
        "        N = int(100 * density)  # Adjust N based on density\n",
        "        V = N / density\n",
        "        L = V ** (1/3)\n",
        "\n",
        "        print(f\"Running simulation for density = {density}, T = {T}, N = {N}, L = {L}\")\n",
        "\n",
        "        energies = []\n",
        "        for _ in range(samples):\n",
        "            # Initialize the simulation for each sample\n",
        "            s = MethaneSimulation(N=N, L=L, T=T, maxSteps=10000, debug=False, seed=23)\n",
        "            energies.append(s.energies.mean() / N)  # Store average energy per particle\n",
        "\n",
        "        avg_energy = np.mean(energies)\n",
        "        std_energy = np.std(energies)\n",
        "        print(f\"Average energy per particle: {avg_energy:.4f} ± {std_energy:.4f}\")\n"
      ]
    }
  ],
  "metadata": {
    "colab": {
      "provenance": [],
      "authorship_tag": "ABX9TyNTR0uQ43F4Fsun5DtvZdGu",
      "include_colab_link": true
    },
    "kernelspec": {
      "display_name": "Python 3",
      "name": "python3"
    },
    "language_info": {
      "name": "python"
    }
  },
  "nbformat": 4,
  "nbformat_minor": 0
}