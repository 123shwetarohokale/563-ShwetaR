{
  "nbformat": 4,
  "nbformat_minor": 0,
  "metadata": {
    "colab": {
      "provenance": [],
      "authorship_tag": "ABX9TyMg7UnMX0Tq+0lsw5nQ3ZsP",
      "include_colab_link": true
    },
    "kernelspec": {
      "name": "python3",
      "display_name": "Python 3"
    },
    "language_info": {
      "name": "python"
    }
  },
  "cells": [
    {
      "cell_type": "markdown",
      "metadata": {
        "id": "view-in-github",
        "colab_type": "text"
      },
      "source": [
        "<a href=\"https://colab.research.google.com/github/123shwetarohokale/563-ShwetaR/blob/main/CLASS13012025.ipynb\" target=\"_parent\"><img src=\"https://colab.research.google.com/assets/colab-badge.svg\" alt=\"Open In Colab\"/></a>"
      ]
    },
    {
      "cell_type": "code",
      "execution_count": null,
      "metadata": {
        "colab": {
          "base_uri": "https://localhost:8080/"
        },
        "id": "1H-fwnt_tdMC",
        "outputId": "57095354-c6a1-4d8f-da19-3ae3377fe41d"
      },
      "outputs": [
        {
          "output_type": "stream",
          "name": "stdout",
          "text": [
            "hello class\n"
          ]
        }
      ],
      "source": [
        "# I am trying to figure out how many ways\n",
        "# we can fit 20 particles in a volume of 4 billion by 4 billion\n",
        "print(\"hello class\")\n",
        "a=20\n",
        "b=[1,23,'string!'] #shift+return/enter run the cell"
      ]
    },
    {
      "cell_type": "code",
      "source": [
        "print(b)"
      ],
      "metadata": {
        "colab": {
          "base_uri": "https://localhost:8080/"
        },
        "id": "mxMD9bNCtrif",
        "outputId": "630d8463-4c69-45b8-a228-46046c384360"
      },
      "execution_count": null,
      "outputs": [
        {
          "output_type": "stream",
          "name": "stdout",
          "text": [
            "[1, 23, 'string!']\n"
          ]
        }
      ]
    },
    {
      "cell_type": "code",
      "source": [
        "# OK, Now I am really going to work on the problem\n",
        "places_can_sit = (4*10**9)**2"
      ],
      "metadata": {
        "id": "lZefXXATuZTV"
      },
      "execution_count": 1,
      "outputs": []
    },
    {
      "cell_type": "code",
      "source": [
        "print(places_can_sit**20)"
      ],
      "metadata": {
        "id": "ss9k0k3exImw",
        "outputId": "80edc715-6b34-483a-811c-3eac2b7f7900",
        "colab": {
          "base_uri": "https://localhost:8080/"
        }
      },
      "execution_count": 2,
      "outputs": [
        {
          "output_type": "stream",
          "name": "stdout",
          "text": [
            "1208925819614629174706176000000000000000000000000000000000000000000000000000000000000000000000000000000000000000000000000000000000000000000000000000000000000000000000000000000000000000000000000000000000000000000000000000000000000000000000000000000000000000000000000000000000000000000000000000000000000000000000000000000000000000000000000000000000000000000000000000000000000000000000000\n"
          ]
        }
      ]
    },
    {
      "cell_type": "code",
      "source": [
        "# how many year will it take to evalute these configurations\n",
        "# with 2.67 billion evaluations per second?\n",
        "one_sec= 2.67*10**9\n",
        "one_sec_decimal=267*10**7 # changing number to decimal conversion\n",
        "n = places_can_sit**20"
      ],
      "metadata": {
        "id": "USYBPxZNyGan"
      },
      "execution_count": 18,
      "outputs": []
    },
    {
      "cell_type": "code",
      "source": [
        "n//one_sec_decimal"
      ],
      "metadata": {
        "id": "zN11-rH10kNO",
        "outputId": "2152869c-2866-4369-dd89-ed81b1ea939c",
        "colab": {
          "base_uri": "https://localhost:8080/"
        }
      },
      "execution_count": 19,
      "outputs": [
        {
          "output_type": "execute_result",
          "data": {
            "text/plain": [
              "452781205848175720863736329588014981273408239700374531835205992509363295880149812734082397003745318352059925093632958801498127340823970037453183520599250936329588014981273408239700374531835205992509363295880149812734082397003745318352059925093632958801498127340823970037453183520599250936329588014981273408239700374531835205992509363295880149812734082397003745318352059925093"
            ]
          },
          "metadata": {},
          "execution_count": 19
        }
      ]
    },
    {
      "cell_type": "code",
      "source": [
        "(n//one_sec_decimal)//3600//24//365//(10**367) #seconds"
      ],
      "metadata": {
        "id": "qfqRPfa-1DKn",
        "outputId": "31eb564e-e4ca-4d0d-dba7-564c5abe5350",
        "colab": {
          "base_uri": "https://localhost:8080/"
        }
      },
      "execution_count": 20,
      "outputs": [
        {
          "output_type": "execute_result",
          "data": {
            "text/plain": [
              "1"
            ]
          },
          "metadata": {},
          "execution_count": 20
        }
      ]
    },
    {
      "cell_type": "code",
      "source": [],
      "metadata": {
        "id": "6Tt_cKyw6Dhe"
      },
      "execution_count": null,
      "outputs": []
    }
  ]
}