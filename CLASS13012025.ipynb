{
  "nbformat": 4,
  "nbformat_minor": 0,
  "metadata": {
    "colab": {
      "provenance": [],
      "authorship_tag": "ABX9TyOu8ct09pNi9/LqzQ2Cp9eL",
      "include_colab_link": true
    },
    "kernelspec": {
      "name": "python3",
      "display_name": "Python 3"
    },
    "language_info": {
      "name": "python"
    }
  },
  "cells": [
    {
      "cell_type": "markdown",
      "metadata": {
        "id": "view-in-github",
        "colab_type": "text"
      },
      "source": [
        "<a href=\"https://colab.research.google.com/github/123shwetarohokale/563-ShwetaR/blob/main/CLASS13012025.ipynb\" target=\"_parent\"><img src=\"https://colab.research.google.com/assets/colab-badge.svg\" alt=\"Open In Colab\"/></a>"
      ]
    },
    {
      "cell_type": "code",
      "execution_count": 2,
      "metadata": {
        "colab": {
          "base_uri": "https://localhost:8080/"
        },
        "id": "1H-fwnt_tdMC",
        "outputId": "57095354-c6a1-4d8f-da19-3ae3377fe41d"
      },
      "outputs": [
        {
          "output_type": "stream",
          "name": "stdout",
          "text": [
            "hello class\n"
          ]
        }
      ],
      "source": [
        "# I am trying to figure out how many ways\n",
        "# we can fit 20 particles in a volume of 4 billion by 4 billion\n",
        "print(\"hello class\")\n",
        "a=20\n",
        "b=[1,23,'string!'] #shift+return/enter run the cell"
      ]
    },
    {
      "cell_type": "code",
      "source": [
        "print(b)"
      ],
      "metadata": {
        "colab": {
          "base_uri": "https://localhost:8080/"
        },
        "id": "mxMD9bNCtrif",
        "outputId": "630d8463-4c69-45b8-a228-46046c384360"
      },
      "execution_count": 3,
      "outputs": [
        {
          "output_type": "stream",
          "name": "stdout",
          "text": [
            "[1, 23, 'string!']\n"
          ]
        }
      ]
    },
    {
      "cell_type": "code",
      "source": [],
      "metadata": {
        "id": "lZefXXATuZTV"
      },
      "execution_count": null,
      "outputs": []
    }
  ]
}