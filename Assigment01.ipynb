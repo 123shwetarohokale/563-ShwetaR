{
  "nbformat": 4,
  "nbformat_minor": 0,
  "metadata": {
    "colab": {
      "provenance": [],
      "authorship_tag": "ABX9TyM8XwhUNIRWx0Bj3CqowDlN",
      "include_colab_link": true
    },
    "kernelspec": {
      "name": "python3",
      "display_name": "Python 3"
    },
    "language_info": {
      "name": "python"
    }
  },
  "cells": [
    {
      "cell_type": "markdown",
      "metadata": {
        "id": "view-in-github",
        "colab_type": "text"
      },
      "source": [
        "<a href=\"https://colab.research.google.com/github/123shwetarohokale/563-ShwetaR/blob/main/Assigment01.ipynb\" target=\"_parent\"><img src=\"https://colab.research.google.com/assets/colab-badge.svg\" alt=\"Open In Colab\"/></a>"
      ]
    },
    {
      "cell_type": "code",
      "execution_count": 14,
      "metadata": {
        "id": "-IS-GG34s-08",
        "colab": {
          "base_uri": "https://localhost:8080/"
        },
        "outputId": "0fa5c453-0991-4b04-89f2-8e2790a58cdc"
      },
      "outputs": [
        {
          "output_type": "stream",
          "name": "stdout",
          "text": [
            "1000000000000000000000000000000000000000000\n"
          ]
        }
      ],
      "source": [
        "# 1. Problem 1: Number of configurations and entropy for a combined system\n",
        "# Number of configurations for the subsystems\n",
        "Omega1 = 10**20\n",
        "Omega2 = 10**22\n",
        "\n",
        "# Total number of configurations for the combined system\n",
        "Omega_total = Omega1 * Omega2\n",
        "print(Omega_total)"
      ]
    },
    {
      "cell_type": "code",
      "source": [
        "import math\n",
        "# Boltzmann constant (in terms of k_B)\n",
        "k_B = 1.38e-23  # J/K\n",
        "# Entropy for the combined system\n",
        "S_total = k_B * math.log(Omega_total)\n",
        "\n",
        "# Entropies for the individual subsystems\n",
        "S1 = k_B * math.log(Omega1)\n",
        "S2 = k_B * math.log(Omega2)\n",
        "\n",
        "print(S_total)\n",
        "print(S1)\n",
        "print(S2)"
      ],
      "metadata": {
        "colab": {
          "base_uri": "https://localhost:8080/"
        },
        "id": "WraZbamtKDAX",
        "outputId": "63c39a4f-04cc-4b58-db0e-b77a6957a44a"
      },
      "execution_count": 27,
      "outputs": [
        {
          "output_type": "stream",
          "name": "stdout",
          "text": [
            "1.3345783198993488e-21\n",
            "6.355134856663567e-22\n",
            "6.990648342329924e-22\n"
          ]
        }
      ]
    },
    {
      "cell_type": "code",
      "source": [
        "# 2. Problem 2: Factor by which configurations increase when air expands\n",
        "initial_volume = 10\n",
        "expansion_percentage = 0.001* initial_volume\n",
        "final_volume = initial_volume * (1 + expansion_percentage / 100)\n",
        "factor = final_volume / initial_volume\n",
        "print(factor)"
      ],
      "metadata": {
        "colab": {
          "base_uri": "https://localhost:8080/"
        },
        "id": "zMOvdum-NnZz",
        "outputId": "1dccf32c-efe2-4714-ee7b-4a9a8a6e61c9"
      },
      "execution_count": 29,
      "outputs": [
        {
          "output_type": "stream",
          "name": "stdout",
          "text": [
            "1.0001\n"
          ]
        }
      ]
    },
    {
      "cell_type": "code",
      "source": [
        "# 3. Problem 3: Factor by which configurations increase when energy is added\n",
        "import math\n",
        "import numpy as np # Import numpy for more robust calculations\n",
        "\n",
        "energy_added = 150000  # J (150 kJ)\n",
        "temperature = 300  # Kelvin\n",
        "N = 2*6022*10**20 # number_of_particles\n",
        "print(N)\n",
        "k_B = 1.38e-23  # J/K\n",
        "X = (energy_added) / (k_B * temperature) # Corrected the formula to avoid overflow\n",
        "print(X)\n",
        "# Using numpy's exp for better handling of large numbers:\n",
        "factor_at_const_vol = np.exp(X)\n",
        "print(factor_at_const_vol)"
      ],
      "metadata": {
        "id": "aDllJoTgQfio",
        "outputId": "76ff16ef-3665-4348-b5f3-9aa148bdeeba",
        "colab": {
          "base_uri": "https://localhost:8080/"
        }
      },
      "execution_count": 49,
      "outputs": [
        {
          "output_type": "stream",
          "name": "stdout",
          "text": [
            "1204400000000000000000000\n",
            "3.6231884057971014e+25\n",
            "inf\n"
          ]
        },
        {
          "output_type": "stream",
          "name": "stderr",
          "text": [
            "<ipython-input-49-d52f3e74387d>:13: RuntimeWarning: overflow encountered in exp\n",
            "  factor_at_const_vol = np.exp(X)\n"
          ]
        }
      ]
    }
  ]
}