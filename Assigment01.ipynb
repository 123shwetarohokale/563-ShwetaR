{
  "nbformat": 4,
  "nbformat_minor": 0,
  "metadata": {
    "colab": {
      "provenance": [],
      "authorship_tag": "ABX9TyP6ltttLP5F9zJIg4vYVGe1",
      "include_colab_link": true
    },
    "kernelspec": {
      "name": "python3",
      "display_name": "Python 3"
    },
    "language_info": {
      "name": "python"
    }
  },
  "cells": [
    {
      "cell_type": "markdown",
      "metadata": {
        "id": "view-in-github",
        "colab_type": "text"
      },
      "source": [
        "<a href=\"https://colab.research.google.com/github/123shwetarohokale/563-ShwetaR/blob/main/Assigment01.ipynb\" target=\"_parent\"><img src=\"https://colab.research.google.com/assets/colab-badge.svg\" alt=\"Open In Colab\"/></a>"
      ]
    },
    {
      "cell_type": "code",
      "execution_count": 14,
      "metadata": {
        "id": "-IS-GG34s-08",
        "outputId": "0fa5c453-0991-4b04-89f2-8e2790a58cdc",
        "colab": {
          "base_uri": "https://localhost:8080/"
        }
      },
      "outputs": [
        {
          "output_type": "stream",
          "name": "stdout",
          "text": [
            "1000000000000000000000000000000000000000000\n"
          ]
        }
      ],
      "source": [
        "# 1. Problem 1: Number of configurations and entropy for a combined system\n",
        "# Number of configurations for the subsystems\n",
        "Omega1 = 10**20\n",
        "Omega2 = 10**22\n",
        "\n",
        "# Total number of configurations for the combined system\n",
        "Omega_total = Omega1 * Omega2\n",
        "print(Omega_total)\n",
        "\n"
      ]
    },
    {
      "cell_type": "code",
      "source": [
        "import math\n",
        "# Boltzmann constant (in terms of k_B)\n",
        "k_B = 1.38e-23  # J/K\n",
        "# Entropy for the combined system\n",
        "S_total = k_B * math.log(Omega_total)\n",
        "\n",
        "# Entropies for the individual subsystems\n",
        "S1 = k_B * math.log(Omega1)\n",
        "S2 = k_B * math.log(Omega2)\n",
        "\n",
        "print(S_total)\n",
        "print(S1)\n",
        "print(S2)"
      ],
      "metadata": {
        "id": "WraZbamtKDAX",
        "outputId": "3a380192-90a3-4788-c24a-69c1463eef5a",
        "colab": {
          "base_uri": "https://localhost:8080/"
        }
      },
      "execution_count": 23,
      "outputs": [
        {
          "output_type": "stream",
          "name": "stdout",
          "text": [
            "1.3345783198993488e-21\n",
            "6.355134856663567e-22\n",
            "6.990648342329924e-22\n"
          ]
        }
      ]
    },
    {
      "cell_type": "code",
      "source": [],
      "metadata": {
        "id": "zMOvdum-NnZz"
      },
      "execution_count": null,
      "outputs": []
    }
  ]
}