{
  "nbformat": 4,
  "nbformat_minor": 0,
  "metadata": {
    "colab": {
      "provenance": [],
      "authorship_tag": "ABX9TyMRM73RqIeZ8TDX1x8cLH98",
      "include_colab_link": true
    },
    "kernelspec": {
      "name": "python3",
      "display_name": "Python 3"
    },
    "language_info": {
      "name": "python"
    }
  },
  "cells": [
    {
      "cell_type": "markdown",
      "metadata": {
        "id": "view-in-github",
        "colab_type": "text"
      },
      "source": [
        "<a href=\"https://colab.research.google.com/github/123shwetarohokale/563-ShwetaR/blob/main/Furuta_pendulum.ipynb\" target=\"_parent\"><img src=\"https://colab.research.google.com/assets/colab-badge.svg\" alt=\"Open In Colab\"/></a>"
      ]
    },
    {
      "cell_type": "code",
      "execution_count": 2,
      "metadata": {
        "colab": {
          "base_uri": "https://localhost:8080/"
        },
        "id": "hArX4FhhNu5J",
        "outputId": "d89a07c1-d805-4f56-9c65-e9805cc860ed"
      },
      "outputs": [
        {
          "output_type": "stream",
          "name": "stdout",
          "text": [
            "Collecting mujoco\n",
            "  Downloading mujoco-3.3.0-cp311-cp311-manylinux_2_17_x86_64.manylinux2014_x86_64.whl.metadata (44 kB)\n",
            "\u001b[?25l     \u001b[90m━━━━━━━━━━━━━━━━━━━━━━━━━━━━━━━━━━━━━━━━\u001b[0m \u001b[32m0.0/44.4 kB\u001b[0m \u001b[31m?\u001b[0m eta \u001b[36m-:--:--\u001b[0m\r\u001b[2K     \u001b[90m━━━━━━━━━━━━━━━━━━━━━━━━━━━━━━━━━━━━━━━━\u001b[0m \u001b[32m44.4/44.4 kB\u001b[0m \u001b[31m1.8 MB/s\u001b[0m eta \u001b[36m0:00:00\u001b[0m\n",
            "\u001b[?25hRequirement already satisfied: absl-py in /usr/local/lib/python3.11/dist-packages (from mujoco) (1.4.0)\n",
            "Requirement already satisfied: etils[epath] in /usr/local/lib/python3.11/dist-packages (from mujoco) (1.12.0)\n",
            "Collecting glfw (from mujoco)\n",
            "  Downloading glfw-2.8.0-py2.py27.py3.py30.py31.py32.py33.py34.py35.py36.py37.py38.p39.p310.p311.p312.p313-none-manylinux_2_28_x86_64.whl.metadata (5.4 kB)\n",
            "Requirement already satisfied: numpy in /usr/local/lib/python3.11/dist-packages (from mujoco) (1.26.4)\n",
            "Requirement already satisfied: pyopengl in /usr/local/lib/python3.11/dist-packages (from mujoco) (3.1.9)\n",
            "Requirement already satisfied: fsspec in /usr/local/lib/python3.11/dist-packages (from etils[epath]->mujoco) (2024.10.0)\n",
            "Requirement already satisfied: importlib_resources in /usr/local/lib/python3.11/dist-packages (from etils[epath]->mujoco) (6.5.2)\n",
            "Requirement already satisfied: typing_extensions in /usr/local/lib/python3.11/dist-packages (from etils[epath]->mujoco) (4.12.2)\n",
            "Requirement already satisfied: zipp in /usr/local/lib/python3.11/dist-packages (from etils[epath]->mujoco) (3.21.0)\n",
            "Downloading mujoco-3.3.0-cp311-cp311-manylinux_2_17_x86_64.manylinux2014_x86_64.whl (6.6 MB)\n",
            "\u001b[2K   \u001b[90m━━━━━━━━━━━━━━━━━━━━━━━━━━━━━━━━━━━━━━━━\u001b[0m \u001b[32m6.6/6.6 MB\u001b[0m \u001b[31m71.1 MB/s\u001b[0m eta \u001b[36m0:00:00\u001b[0m\n",
            "\u001b[?25hDownloading glfw-2.8.0-py2.py27.py3.py30.py31.py32.py33.py34.py35.py36.py37.py38.p39.p310.p311.p312.p313-none-manylinux_2_28_x86_64.whl (243 kB)\n",
            "\u001b[2K   \u001b[90m━━━━━━━━━━━━━━━━━━━━━━━━━━━━━━━━━━━━━━━━\u001b[0m \u001b[32m243.4/243.4 kB\u001b[0m \u001b[31m20.9 MB/s\u001b[0m eta \u001b[36m0:00:00\u001b[0m\n",
            "\u001b[?25hInstalling collected packages: glfw, mujoco\n",
            "Successfully installed glfw-2.8.0 mujoco-3.3.0\n"
          ]
        }
      ],
      "source": [
        "pip install mujoco\n"
      ]
    },
    {
      "cell_type": "code",
      "source": [
        "pip show mujoco"
      ],
      "metadata": {
        "colab": {
          "base_uri": "https://localhost:8080/"
        },
        "id": "CO8NKmI1_p08",
        "outputId": "ba9728cd-3b99-49ad-c69b-189e854d4965"
      },
      "execution_count": 7,
      "outputs": [
        {
          "output_type": "stream",
          "name": "stdout",
          "text": [
            "Name: mujoco\n",
            "Version: 3.3.0\n",
            "Summary: MuJoCo Physics Simulator\n",
            "Home-page: https://github.com/google-deepmind/mujoco\n",
            "Author: \n",
            "Author-email: Google DeepMind <mujoco@deepmind.com>\n",
            "License: Apache License 2.0\n",
            "Location: /usr/local/lib/python3.11/dist-packages\n",
            "Requires: absl-py, etils, glfw, numpy, pyopengl\n",
            "Required-by: \n"
          ]
        }
      ]
    },
    {
      "cell_type": "code",
      "source": [
        "!python -m mujoco.viewer"
      ],
      "metadata": {
        "colab": {
          "base_uri": "https://localhost:8080/"
        },
        "id": "ZgoqSUe-_0lH",
        "outputId": "35221a83-bd08-4073-8056-862dacc200c8"
      },
      "execution_count": 9,
      "outputs": [
        {
          "output_type": "stream",
          "name": "stdout",
          "text": [
            "/usr/local/lib/python3.11/dist-packages/glfw/__init__.py:917: GLFWError: (65550) b'X11: The DISPLAY environment variable is missing'\n",
            "  warnings.warn(message, GLFWError)\n",
            "ERROR: could not initialize GLFW\n",
            "\n",
            "Press Enter to exit ...\n"
          ]
        }
      ]
    },
    {
      "cell_type": "code",
      "source": [
        "import mujoco as mj\n",
        "import numpy as np\n",
        "\n",
        "# Load MuJoCo model\n",
        "model = mj.MjModel.from_xml_path(\"furuta_pendulum.xml\")\n",
        "data = mj.MjData(model)\n",
        "\n",
        "# Define a function to extract transformation matrices\n",
        "def get_transformation_matrix(model, data, body_name):\n",
        "    \"\"\" Returns the 3x3 rotation matrix of a given body. \"\"\"\n",
        "    body_id = model.body(body_name)\n",
        "    return data.xmat[body_id].reshape(3, 3)  # Extract 3x3 rotation matrix\n",
        "\n",
        "# Define a function to verify kinematic equations\n",
        "def verify_kinematics(model, data):\n",
        "    # Step simulation to update states\n",
        "    mj.mj_step(model, data)\n",
        "\n",
        "    # Extract joint angles\n",
        "    theta_base = data.qpos[0]  # Base rotation\n",
        "    theta_arm = data.qpos[1]   # Arm rotation\n",
        "    theta_pendulum = data.qpos[2]  # Pendulum swing\n",
        "\n",
        "    # Compute transformation matrices\n",
        "    T_base = get_transformation_matrix(model, data, \"base\")\n",
        "    T_arm = get_transformation_matrix(model, data, \"arm\")\n",
        "    T_pendulum = get_transformation_matrix(model, data, \"pendulum\")\n",
        "\n",
        "    # Print values for comparison\n",
        "    print(\"Base Joint Angle (theta1):\", theta_base)\n",
        "    print(\"Arm Joint Angle (theta2):\", theta_arm)\n",
        "    print(\"Pendulum Joint Angle (theta3):\", theta_pendulum)\n",
        "\n",
        "    print(\"\\nTransformation Matrices:\")\n",
        "    print(\"T_base:\\n\", T_base)\n",
        "    print(\"T_arm:\\n\", T_arm)\n",
        "    print(\"T_pendulum:\\n\", T_pendulum)\n",
        "\n",
        "# Run the verification function\n",
        "verify_kinematics(model, data)\n",
        "\n"
      ],
      "metadata": {
        "colab": {
          "base_uri": "https://localhost:8080/",
          "height": 211
        },
        "id": "e1VgM2_nGBkL",
        "outputId": "1230f8d3-9e31-4600-dd4d-3f84fcb88862"
      },
      "execution_count": 11,
      "outputs": [
        {
          "output_type": "error",
          "ename": "ValueError",
          "evalue": "ParseXML: Error opening file 'furuta_pendulum.xml': No such file or directory",
          "traceback": [
            "\u001b[0;31m---------------------------------------------------------------------------\u001b[0m",
            "\u001b[0;31mValueError\u001b[0m                                Traceback (most recent call last)",
            "\u001b[0;32m<ipython-input-11-829fd0a071cc>\u001b[0m in \u001b[0;36m<cell line: 0>\u001b[0;34m()\u001b[0m\n\u001b[1;32m      3\u001b[0m \u001b[0;34m\u001b[0m\u001b[0m\n\u001b[1;32m      4\u001b[0m \u001b[0;31m# Load MuJoCo model\u001b[0m\u001b[0;34m\u001b[0m\u001b[0;34m\u001b[0m\u001b[0m\n\u001b[0;32m----> 5\u001b[0;31m \u001b[0mmodel\u001b[0m \u001b[0;34m=\u001b[0m \u001b[0mmj\u001b[0m\u001b[0;34m.\u001b[0m\u001b[0mMjModel\u001b[0m\u001b[0;34m.\u001b[0m\u001b[0mfrom_xml_path\u001b[0m\u001b[0;34m(\u001b[0m\u001b[0;34m\"furuta_pendulum.xml\"\u001b[0m\u001b[0;34m)\u001b[0m\u001b[0;34m\u001b[0m\u001b[0;34m\u001b[0m\u001b[0m\n\u001b[0m\u001b[1;32m      6\u001b[0m \u001b[0mdata\u001b[0m \u001b[0;34m=\u001b[0m \u001b[0mmj\u001b[0m\u001b[0;34m.\u001b[0m\u001b[0mMjData\u001b[0m\u001b[0;34m(\u001b[0m\u001b[0mmodel\u001b[0m\u001b[0;34m)\u001b[0m\u001b[0;34m\u001b[0m\u001b[0;34m\u001b[0m\u001b[0m\n\u001b[1;32m      7\u001b[0m \u001b[0;34m\u001b[0m\u001b[0m\n",
            "\u001b[0;31mValueError\u001b[0m: ParseXML: Error opening file 'furuta_pendulum.xml': No such file or directory"
          ]
        }
      ]
    }
  ]
}