{
  "nbformat": 4,
  "nbformat_minor": 0,
  "metadata": {
    "colab": {
      "provenance": [],
      "authorship_tag": "ABX9TyMTnF5nj3dXw1qT1Z8fCC7h",
      "include_colab_link": true
    },
    "kernelspec": {
      "name": "python3",
      "display_name": "Python 3"
    },
    "language_info": {
      "name": "python"
    }
  },
  "cells": [
    {
      "cell_type": "markdown",
      "metadata": {
        "id": "view-in-github",
        "colab_type": "text"
      },
      "source": [
        "<a href=\"https://colab.research.google.com/github/123shwetarohokale/563-ShwetaR/blob/main/project01with%20error.ipynb\" target=\"_parent\"><img src=\"https://colab.research.google.com/assets/colab-badge.svg\" alt=\"Open In Colab\"/></a>"
      ]
    },
    {
      "cell_type": "code",
      "execution_count": 3,
      "metadata": {
        "colab": {
          "base_uri": "https://localhost:8080/",
          "height": 617
        },
        "id": "Uf9-chdtV2A3",
        "outputId": "3867a843-7f8c-4d62-f01a-02333e4e290e"
      },
      "outputs": [
        {
          "output_type": "error",
          "ename": "UnsupportedError",
          "evalue": "Failed in nopython mode pipeline (step: inline calls to locally defined closures)\nThe use of yield in a closure is unsupported.\n\nFile \"<ipython-input-3-6ddfa94cc08e>\", line 58:\ndef metropolis_mc(positions, L, N, beta, max_disp, n_steps):\n    <source elided>\n        if step % (n_steps // 100) == 0 and step > n_steps // 2:\n            total_energy = sum(\n            ^\n",
          "traceback": [
            "\u001b[0;31m---------------------------------------------------------------------------\u001b[0m",
            "\u001b[0;31mUnsupportedError\u001b[0m                          Traceback (most recent call last)",
            "\u001b[0;32m<ipython-input-3-6ddfa94cc08e>\u001b[0m in \u001b[0;36m<cell line: 0>\u001b[0;34m()\u001b[0m\n\u001b[1;32m     83\u001b[0m \u001b[0;34m\u001b[0m\u001b[0m\n\u001b[1;32m     84\u001b[0m         \u001b[0mstart_time\u001b[0m \u001b[0;34m=\u001b[0m \u001b[0mtime\u001b[0m\u001b[0;34m.\u001b[0m\u001b[0mtime\u001b[0m\u001b[0;34m(\u001b[0m\u001b[0;34m)\u001b[0m\u001b[0;34m\u001b[0m\u001b[0;34m\u001b[0m\u001b[0m\n\u001b[0;32m---> 85\u001b[0;31m         \u001b[0mE_samples\u001b[0m\u001b[0;34m,\u001b[0m \u001b[0macceptance_ratio\u001b[0m \u001b[0;34m=\u001b[0m \u001b[0mmetropolis_mc\u001b[0m\u001b[0;34m(\u001b[0m\u001b[0mmethane_positions\u001b[0m\u001b[0;34m,\u001b[0m \u001b[0mL\u001b[0m\u001b[0;34m,\u001b[0m \u001b[0mN\u001b[0m\u001b[0;34m,\u001b[0m \u001b[0mbeta\u001b[0m\u001b[0;34m,\u001b[0m \u001b[0mmax_disp\u001b[0m\u001b[0;34m,\u001b[0m \u001b[0mn_steps\u001b[0m\u001b[0;34m)\u001b[0m\u001b[0;34m\u001b[0m\u001b[0;34m\u001b[0m\u001b[0m\n\u001b[0m\u001b[1;32m     86\u001b[0m         \u001b[0mend_time\u001b[0m \u001b[0;34m=\u001b[0m \u001b[0mtime\u001b[0m\u001b[0;34m.\u001b[0m\u001b[0mtime\u001b[0m\u001b[0;34m(\u001b[0m\u001b[0;34m)\u001b[0m\u001b[0;34m\u001b[0m\u001b[0;34m\u001b[0m\u001b[0m\n\u001b[1;32m     87\u001b[0m \u001b[0;34m\u001b[0m\u001b[0m\n",
            "\u001b[0;32m/usr/local/lib/python3.11/dist-packages/numba/core/dispatcher.py\u001b[0m in \u001b[0;36m_compile_for_args\u001b[0;34m(self, *args, **kws)\u001b[0m\n\u001b[1;32m    424\u001b[0m         \u001b[0;32mexcept\u001b[0m \u001b[0merrors\u001b[0m\u001b[0;34m.\u001b[0m\u001b[0mUnsupportedError\u001b[0m \u001b[0;32mas\u001b[0m \u001b[0me\u001b[0m\u001b[0;34m:\u001b[0m\u001b[0;34m\u001b[0m\u001b[0;34m\u001b[0m\u001b[0m\n\u001b[1;32m    425\u001b[0m             \u001b[0;31m# Something unsupported is present in the user code, add help info\u001b[0m\u001b[0;34m\u001b[0m\u001b[0;34m\u001b[0m\u001b[0m\n\u001b[0;32m--> 426\u001b[0;31m             \u001b[0merror_rewrite\u001b[0m\u001b[0;34m(\u001b[0m\u001b[0me\u001b[0m\u001b[0;34m,\u001b[0m \u001b[0;34m'unsupported_error'\u001b[0m\u001b[0;34m)\u001b[0m\u001b[0;34m\u001b[0m\u001b[0;34m\u001b[0m\u001b[0m\n\u001b[0m\u001b[1;32m    427\u001b[0m         except (errors.NotDefinedError, errors.RedefinedError,\n\u001b[1;32m    428\u001b[0m                 errors.VerificationError) as e:\n",
            "\u001b[0;32m/usr/local/lib/python3.11/dist-packages/numba/core/dispatcher.py\u001b[0m in \u001b[0;36merror_rewrite\u001b[0;34m(e, issue_type)\u001b[0m\n\u001b[1;32m    362\u001b[0m                 \u001b[0;32mraise\u001b[0m \u001b[0me\u001b[0m\u001b[0;34m\u001b[0m\u001b[0;34m\u001b[0m\u001b[0m\n\u001b[1;32m    363\u001b[0m             \u001b[0;32melse\u001b[0m\u001b[0;34m:\u001b[0m\u001b[0;34m\u001b[0m\u001b[0;34m\u001b[0m\u001b[0m\n\u001b[0;32m--> 364\u001b[0;31m                 \u001b[0;32mraise\u001b[0m \u001b[0me\u001b[0m\u001b[0;34m.\u001b[0m\u001b[0mwith_traceback\u001b[0m\u001b[0;34m(\u001b[0m\u001b[0;32mNone\u001b[0m\u001b[0;34m)\u001b[0m\u001b[0;34m\u001b[0m\u001b[0;34m\u001b[0m\u001b[0m\n\u001b[0m\u001b[1;32m    365\u001b[0m \u001b[0;34m\u001b[0m\u001b[0m\n\u001b[1;32m    366\u001b[0m         \u001b[0margtypes\u001b[0m \u001b[0;34m=\u001b[0m \u001b[0;34m[\u001b[0m\u001b[0;34m]\u001b[0m\u001b[0;34m\u001b[0m\u001b[0;34m\u001b[0m\u001b[0m\n",
            "\u001b[0;31mUnsupportedError\u001b[0m: Failed in nopython mode pipeline (step: inline calls to locally defined closures)\nThe use of yield in a closure is unsupported.\n\nFile \"<ipython-input-3-6ddfa94cc08e>\", line 58:\ndef metropolis_mc(positions, L, N, beta, max_disp, n_steps):\n    <source elided>\n        if step % (n_steps // 100) == 0 and step > n_steps // 2:\n            total_energy = sum(\n            ^\n"
          ]
        }
      ],
      "source": [
        "import numpy as np\n",
        "import matplotlib.pyplot as plt\n",
        "import time\n",
        "from numba import njit, prange\n",
        "\n",
        "# Function to compute autocorrelation and determine independent samples\n",
        "def autocorr1D(array):\n",
        "    ft = np.fft.rfft(array - np.average(array))\n",
        "    acorr = np.fft.irfft(ft * np.conjugate(ft)) / (len(array) * np.var(array))\n",
        "    dt = np.where(acorr < 0)[0][0]\n",
        "    nsamples = len(array) // dt\n",
        "    return nsamples, dt\n",
        "\n",
        "# Lennard-Jones potential function for carbon-carbon interactions\n",
        "@njit\n",
        "def lennard_jones(r, epsilon=1.0, sigma=3.75):  # Methane's LJ parameters\n",
        "    if r < 2.5 * sigma:  # Cutoff distance\n",
        "        sr6 = (sigma / r) ** 6\n",
        "        sr12 = sr6 ** 2\n",
        "        return 4 * epsilon * (sr12 - sr6)\n",
        "    return 0.0\n",
        "\n",
        "# Generate a methane molecule (tetrahedral geometry)\n",
        "def generate_methane(center):\n",
        "    bond_length = 1.09  # Approximate C-H bond length in Angstroms\n",
        "    tetrahedral_vectors = np.array([\n",
        "        [1, 1, 1], [-1, -1, 1], [-1, 1, -1], [1, -1, -1]\n",
        "    ]) / np.sqrt(3)\n",
        "    hydrogen_positions = center + bond_length * tetrahedral_vectors\n",
        "    return center, hydrogen_positions\n",
        "\n",
        "# Monte Carlo Metropolis step\n",
        "@njit(parallel=True)\n",
        "def metropolis_mc(positions, L, N, beta, max_disp, n_steps):\n",
        "    epsilon = 1.0\n",
        "    sigma = 3.75  # Methane's sigma parameter\n",
        "    E_samples = []\n",
        "    acceptance = 0\n",
        "\n",
        "    for step in range(n_steps):\n",
        "        i = np.random.randint(N)\n",
        "        old_pos = positions[i].copy()\n",
        "        new_pos = old_pos + max_disp * (2 * np.random.rand(3) - 1)\n",
        "        new_pos = np.mod(new_pos, L)  # Periodic boundary conditions\n",
        "\n",
        "        dE = 0.0\n",
        "        for j in range(N):\n",
        "            if j != i:\n",
        "                r_old = np.linalg.norm(old_pos - positions[j])\n",
        "                r_new = np.linalg.norm(new_pos - positions[j])\n",
        "                dE += lennard_jones(r_new, epsilon, sigma) - lennard_jones(r_old, epsilon, sigma)\n",
        "\n",
        "        if dE < 0 or np.random.rand() < np.exp(-beta * dE):\n",
        "            positions[i] = new_pos\n",
        "            acceptance += 1\n",
        "\n",
        "        if step % (n_steps // 100) == 0 and step > n_steps // 2:\n",
        "            total_energy = sum(\n",
        "                lennard_jones(np.linalg.norm(positions[i] - positions[j]), epsilon, sigma)\n",
        "                for i in prange(N) for j in prange(i))\n",
        "            E_samples.append(total_energy / N)\n",
        "\n",
        "    return np.array(E_samples), acceptance / n_steps\n",
        "\n",
        "# Simulation Parameters\n",
        "T_values = [0.5, 2.0]  # Temperatures\n",
        "rho_values = [0.5, 0.7]  # Densities (N/V)\n",
        "N = 100  # Number of methane molecules\n",
        "k_B = 1  # Boltzmann constant (dimensionless units)\n",
        "n_steps = 50000  # Number of Monte Carlo steps\n",
        "max_disp = 0.1  # Maximum displacement step\n",
        "\n",
        "# Store results\n",
        "results = []\n",
        "performance_data = []\n",
        "\n",
        "for T in T_values:\n",
        "    beta = 1 / (k_B * T)\n",
        "    for rho in rho_values:\n",
        "        L = (N / rho) ** (1 / 3)  # Box length\n",
        "        np.random.seed(42)\n",
        "        methane_positions = L * np.random.rand(N, 3)  # Carbon atom positions\n",
        "\n",
        "        start_time = time.time()\n",
        "        E_samples, acceptance_ratio = metropolis_mc(methane_positions, L, N, beta, max_disp, n_steps)\n",
        "        end_time = time.time()\n",
        "\n",
        "        steps_per_second = n_steps / (end_time - start_time)\n",
        "        performance_data.append((T, rho, steps_per_second))\n",
        "\n",
        "        nsamples, dt = autocorr1D(E_samples)\n",
        "        avg_E = np.mean(E_samples[:nsamples])\n",
        "        std_E = np.std(E_samples[:nsamples])\n",
        "        results.append((T, rho, avg_E, std_E, nsamples))\n",
        "\n",
        "# Display Results\n",
        "print(\"Simulation Results:\")\n",
        "for T, rho, avg_E, std_E, num_samples in results:\n",
        "    print(f'T={T}, Density={rho}: <E>/N = {avg_E:.3f}, Std Dev = {std_E:.3f}, Samples = {num_samples}')\n",
        "\n",
        "print(\"\\nPerformance Measurements:\")\n",
        "for T, rho, steps_per_second in performance_data:\n",
        "    print(f'T={T}, Density={rho}: {steps_per_second:.2f} steps/second')\n",
        "\n",
        "# Summary Takeaways:\n",
        "# 1. The simulation now models methane molecules with tetrahedral geometry.\n",
        "# 2. Only carbon-carbon interactions are considered for Lennard-Jones potential.\n",
        "# 3. Performance is improved using optimized periodic boundary conditions and Numba JIT.\n"
      ]
    }
  ]
}