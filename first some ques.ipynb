{
  "nbformat": 4,
  "nbformat_minor": 0,
  "metadata": {
    "colab": {
      "provenance": [],
      "authorship_tag": "ABX9TyMHxzPflVlHh6OFkGfasHl9",
      "include_colab_link": true
    },
    "kernelspec": {
      "name": "python3",
      "display_name": "Python 3"
    },
    "language_info": {
      "name": "python"
    }
  },
  "cells": [
    {
      "cell_type": "markdown",
      "metadata": {
        "id": "view-in-github",
        "colab_type": "text"
      },
      "source": [
        "<a href=\"https://colab.research.google.com/github/123shwetarohokale/563-ShwetaR/blob/main/first%20some%20ques.ipynb\" target=\"_parent\"><img src=\"https://colab.research.google.com/assets/colab-badge.svg\" alt=\"Open In Colab\"/></a>"
      ]
    },
    {
      "cell_type": "code",
      "execution_count": 3,
      "metadata": {
        "colab": {
          "base_uri": "https://localhost:8080/"
        },
        "id": "i8ATTjYmO8Wd",
        "outputId": "d9ef89fe-6e06-4a7d-8d87-4be6bb4411e0"
      },
      "outputs": [
        {
          "output_type": "stream",
          "name": "stdout",
          "text": [
            "Simulation Results:\n",
            "T=0.5, Density=0.5: <E>/N = -3.656, Std Dev = 0.115, Samples = 9\n",
            "T=0.5, Density=0.7: <E>/N = -4.097, Std Dev = 0.072, Samples = 9\n",
            "T=2.0, Density=0.5: <E>/N = -1.783, Std Dev = 0.096, Samples = 9\n",
            "T=2.0, Density=0.7: <E>/N = -2.468, Std Dev = 0.119, Samples = 9\n",
            "\n",
            "Performance Measurements:\n",
            "T=0.5, Density=0.5: 971.16 steps/second\n",
            "T=0.5, Density=0.7: 926.07 steps/second\n",
            "T=2.0, Density=0.5: 1029.03 steps/second\n",
            "T=2.0, Density=0.7: 1062.28 steps/second\n"
          ]
        }
      ],
      "source": [
        "import numpy as np\n",
        "import matplotlib.pyplot as plt\n",
        "import time\n",
        "\n",
        "# Simulation Parameters\n",
        "T_values = [0.5, 2.0]  # Temperatures\n",
        "rho_values = [0.5, 0.7]  # Densities (N/V)\n",
        "N = 100  # Number of Lennard-Jones spheres\n",
        "epsilon = 1  # Lennard-Jones well depth\n",
        "sigma = 1  # Lennard-Jones parameter\n",
        "k_B = 1  # Boltzmann constant (dimensionless units)\n",
        "n_steps = 50000  # Number of Monte Carlo steps\n",
        "max_disp = 0.1  # Maximum displacement step\n",
        "num_samples = 20  # Number of independent samples\n",
        "\n",
        "# Store results\n",
        "results = []\n",
        "performance_data = []\n",
        "\n",
        "for T in T_values:\n",
        "    beta = 1 / (k_B * T)\n",
        "    for rho in rho_values:\n",
        "        L = (N / rho) ** (1 / 3)  # Box length\n",
        "        np.random.seed(42)\n",
        "        positions = L * np.random.rand(N, 3)\n",
        "\n",
        "        E_samples = []\n",
        "        acceptance = 0\n",
        "\n",
        "        start_time = time.time()\n",
        "\n",
        "        for step in range(n_steps):\n",
        "            i = np.random.randint(N)\n",
        "            old_pos = positions[i].copy()\n",
        "            new_pos = old_pos + max_disp * (2 * np.random.rand(3) - 1)\n",
        "            new_pos = np.mod(new_pos, L)  # Apply periodic boundary conditions\n",
        "\n",
        "            dE = 0\n",
        "            for j in range(N):\n",
        "                if j != i:\n",
        "                    r_old = np.linalg.norm(old_pos - positions[j])\n",
        "                    r_new = np.linalg.norm(new_pos - positions[j])\n",
        "\n",
        "                    if r_old < L / 2:\n",
        "                        E_old = 4 * epsilon * ((sigma / r_old) ** 12 - (sigma / r_old) ** 6)\n",
        "                    else:\n",
        "                        E_old = 0\n",
        "\n",
        "                    if r_new < L / 2:\n",
        "                        E_new = 4 * epsilon * ((sigma / r_new) ** 12 - (sigma / r_new) ** 6)\n",
        "                    else:\n",
        "                        E_new = 0\n",
        "\n",
        "                    dE += (E_new - E_old)\n",
        "\n",
        "            if dE < 0 or np.random.rand() < np.exp(-beta * dE):\n",
        "                positions[i] = new_pos\n",
        "                acceptance += 1\n",
        "\n",
        "            if step % (n_steps // num_samples) == 0 and step > n_steps // 2:\n",
        "                total_energy = sum(\n",
        "                    4 * epsilon * ((sigma / np.linalg.norm(positions[i] - positions[j])) ** 12 -\n",
        "                                   (sigma / np.linalg.norm(positions[i] - positions[j])) ** 6)\n",
        "                    for i in range(N) for j in range(i))\n",
        "                E_samples.append(total_energy / N)\n",
        "\n",
        "        end_time = time.time()\n",
        "        steps_per_second = n_steps / (end_time - start_time)\n",
        "        performance_data.append((T, rho, steps_per_second))\n",
        "\n",
        "        avg_E = np.mean(E_samples)\n",
        "        std_E = np.std(E_samples)\n",
        "        results.append((T, rho, avg_E, std_E, len(E_samples)))\n",
        "\n",
        "# Display Results\n",
        "print(\"Simulation Results:\")\n",
        "for T, rho, avg_E, std_E, num_samples in results:\n",
        "    print(f'T={T}, Density={rho}: <E>/N = {avg_E:.3f}, Std Dev = {std_E:.3f}, Samples = {num_samples}')\n",
        "\n",
        "print(\"\\nPerformance Measurements:\")\n",
        "for T, rho, steps_per_second in performance_data:\n",
        "    print(f'T={T}, Density={rho}: {steps_per_second:.2f} steps/second')\n",
        "\n",
        "# Summary Takeaways:\n",
        "# 1. Higher density simulations take longer due to increased particle interactions.\n",
        "# 2. Lower temperatures exhibit slower equilibration due to fewer accepted moves in the Metropolis algorithm.\n",
        "plt.plot(s.energies[0:]/N)\n",
        "plt.show()\n"
      ]
    }
  ]
}